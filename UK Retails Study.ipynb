{
 "cells": [
  {
   "cell_type": "markdown",
   "metadata": {},
   "source": [
    "<p style=\"font-family: Arial; font-size:2.75em;color:purple; font-style:bold\"><br>\n",
    "UK Retails: A Data Science Case Study</p><br>\n",
    "\n",
    "**Applicant:** Yasar Qamar\n",
    "\n",
    "**Project:** Predictive Regression Algorithm implemented in Python. "
   ]
  },
  {
   "cell_type": "markdown",
   "metadata": {},
   "source": [
    "<h1 style=\"font-size:2em;color:#2467C0\">Solution Outline</h1>\n",
    "</p>\n",
    "<br>\n",
    "In this notebook, a predictive model has been built that explains the **'Revenue of next order for any customer'**.\n",
    "<br>\n",
    "\n",
    "I have used a Regression model as the Machine Learning model for this task. It is built using the *sklearn* Python library. Other Python libraries used extensively in this task are *Numpy, Pandas, Scipy* and *Math*.\n",
    "\n",
    "I have used R for Data Visualisation in this notebook using *ggplot2*. All R code is also written in this notebook by using the *rpy2* interface to R from Python. I have chosen this interface as Jupyter allows R code to be written in the same notebook running a Python Kernel and, also, because Python *data frames* can be easily imported to R *data frames* using *rpy2*.\n",
    "\n",
    "The dataset provided for this task is the following CSV file:\n",
    "* **UKretail.csv :** *InvoiceNo*,*StockCode*,*Description*, *Quantity*, *InvoiceDate*, *UnitPrice*, *CustomerID*, *Country*\n",
    "\n",
    "The solution methodology can be divided into following broad categories:\n",
    "\n",
    "* **Data Ingestion:** Using Pandas the CSV file is read and stored into a DataFrame.\n",
    "* **Data Cleaning:** Entries considered to be invalid are removed, e.g. missing values (NaN), negative values, etc.\n",
    "* **Data Exploration:** A brief overview of data is considered, e.g. mean, median, quartiles and outliers.\n",
    "* **Data Selection:** Further data pruning is done based on quartiles to reduce the number of outliers in the data.\n",
    "* **Machine Learning Model** Data is divided into training and testing parts. A Regression model is applied and predictions are obtained.\n",
    "* **Model Validation:** The prediction errors are examined using some common metrics. Justification for the obtained results is provided."
   ]
  },
  {
   "cell_type": "markdown",
   "metadata": {},
   "source": [
    "<h1 style=\"font-size:2em;color:#2467C0\">Import Libraries</h1>\n"
   ]
  },
  {
   "cell_type": "code",
   "execution_count": 1,
   "metadata": {
    "collapsed": false
   },
   "outputs": [
    {
     "data": {
      "text/plain": [
       "array([1], dtype=int32)"
      ]
     },
     "execution_count": 1,
     "metadata": {},
     "output_type": "execute_result"
    }
   ],
   "source": [
    "import pandas as pd\n",
    "import numpy as np\n",
    "\n",
    "from sklearn.tree import DecisionTreeRegressor\n",
    "from sklearn.linear_model import LinearRegression\n",
    "from sklearn.model_selection import train_test_split\n",
    "from sklearn.metrics import mean_squared_error\n",
    "from sklearn.metrics import mean_absolute_error\n",
    "\n",
    "from scipy import stats\n",
    "from scipy.stats import mstats\n",
    "import scipy\n",
    "\n",
    "from math import sqrt\n",
    "from math import fabs\n",
    "\n",
    "import matplotlib.pyplot as plt\n",
    "%matplotlib inline\n",
    "\n",
    "%load_ext rpy2.ipython\n",
    "%R require(ggplot2)\n",
    "%R require(gridExtra)\n"
   ]
  },
  {
   "cell_type": "markdown",
   "metadata": {},
   "source": [
    "<h1 style=\"font-size:2em;color:#2467C0\">Data Ingestion</h1>\n"
   ]
  },
  {
   "cell_type": "code",
   "execution_count": 2,
   "metadata": {
    "collapsed": false
   },
   "outputs": [
    {
     "name": "stdout",
     "output_type": "stream",
     "text": [
      "<class 'pandas.core.frame.DataFrame'>\n"
     ]
    }
   ],
   "source": [
    "# Using Pandas to read dataset\n",
    "retails = pd.read_csv('UKretail.csv', sep=',', encoding = \"ISO-8859-1\")\n",
    "\n",
    "# To check the data type\n",
    "print(type(retails))"
   ]
  },
  {
   "cell_type": "code",
   "execution_count": 3,
   "metadata": {
    "collapsed": false
   },
   "outputs": [
    {
     "data": {
      "text/html": [
       "<div>\n",
       "<table border=\"1\" class=\"dataframe\">\n",
       "  <thead>\n",
       "    <tr style=\"text-align: right;\">\n",
       "      <th></th>\n",
       "      <th>InvoiceNo</th>\n",
       "      <th>StockCode</th>\n",
       "      <th>Description</th>\n",
       "      <th>Quantity</th>\n",
       "      <th>InvoiceDate</th>\n",
       "      <th>UnitPrice</th>\n",
       "      <th>CustomerID</th>\n",
       "      <th>Country</th>\n",
       "    </tr>\n",
       "  </thead>\n",
       "  <tbody>\n",
       "    <tr>\n",
       "      <th>0</th>\n",
       "      <td>536365</td>\n",
       "      <td>22752</td>\n",
       "      <td>SET 7 BABUSHKA NESTING BOXES</td>\n",
       "      <td>2</td>\n",
       "      <td>2010-12-01 08:26:02</td>\n",
       "      <td>7.65</td>\n",
       "      <td>17850.0</td>\n",
       "      <td>United Kingdom</td>\n",
       "    </tr>\n",
       "    <tr>\n",
       "      <th>1</th>\n",
       "      <td>536365</td>\n",
       "      <td>71053</td>\n",
       "      <td>WHITE METAL LANTERN</td>\n",
       "      <td>6</td>\n",
       "      <td>2010-12-01 08:26:02</td>\n",
       "      <td>3.39</td>\n",
       "      <td>17850.0</td>\n",
       "      <td>United Kingdom</td>\n",
       "    </tr>\n",
       "    <tr>\n",
       "      <th>2</th>\n",
       "      <td>536365</td>\n",
       "      <td>84029G</td>\n",
       "      <td>KNITTED UNION FLAG HOT WATER BOTTLE</td>\n",
       "      <td>6</td>\n",
       "      <td>2010-12-01 08:26:02</td>\n",
       "      <td>3.39</td>\n",
       "      <td>17850.0</td>\n",
       "      <td>United Kingdom</td>\n",
       "    </tr>\n",
       "    <tr>\n",
       "      <th>3</th>\n",
       "      <td>536365</td>\n",
       "      <td>85123A</td>\n",
       "      <td>WHITE HANGING HEART T-LIGHT HOLDER</td>\n",
       "      <td>6</td>\n",
       "      <td>2010-12-01 08:26:02</td>\n",
       "      <td>2.55</td>\n",
       "      <td>17850.0</td>\n",
       "      <td>United Kingdom</td>\n",
       "    </tr>\n",
       "    <tr>\n",
       "      <th>4</th>\n",
       "      <td>536366</td>\n",
       "      <td>22633</td>\n",
       "      <td>HAND WARMER UNION JACK</td>\n",
       "      <td>6</td>\n",
       "      <td>2010-12-01 08:28:02</td>\n",
       "      <td>1.85</td>\n",
       "      <td>17850.0</td>\n",
       "      <td>United Kingdom</td>\n",
       "    </tr>\n",
       "    <tr>\n",
       "      <th>5</th>\n",
       "      <td>536367</td>\n",
       "      <td>21754</td>\n",
       "      <td>HOME BUILDING BLOCK WORD</td>\n",
       "      <td>3</td>\n",
       "      <td>2010-12-01 08:33:59</td>\n",
       "      <td>5.95</td>\n",
       "      <td>13047.0</td>\n",
       "      <td>United Kingdom</td>\n",
       "    </tr>\n",
       "    <tr>\n",
       "      <th>6</th>\n",
       "      <td>536367</td>\n",
       "      <td>21755</td>\n",
       "      <td>LOVE BUILDING BLOCK WORD</td>\n",
       "      <td>3</td>\n",
       "      <td>2010-12-01 08:33:59</td>\n",
       "      <td>5.95</td>\n",
       "      <td>13047.0</td>\n",
       "      <td>United Kingdom</td>\n",
       "    </tr>\n",
       "    <tr>\n",
       "      <th>7</th>\n",
       "      <td>536367</td>\n",
       "      <td>21777</td>\n",
       "      <td>RECIPE BOX WITH METAL HEART</td>\n",
       "      <td>4</td>\n",
       "      <td>2010-12-01 08:33:59</td>\n",
       "      <td>7.95</td>\n",
       "      <td>13047.0</td>\n",
       "      <td>United Kingdom</td>\n",
       "    </tr>\n",
       "    <tr>\n",
       "      <th>8</th>\n",
       "      <td>536367</td>\n",
       "      <td>22310</td>\n",
       "      <td>IVORY KNITTED MUG COSY</td>\n",
       "      <td>6</td>\n",
       "      <td>2010-12-01 08:33:59</td>\n",
       "      <td>1.65</td>\n",
       "      <td>13047.0</td>\n",
       "      <td>United Kingdom</td>\n",
       "    </tr>\n",
       "    <tr>\n",
       "      <th>9</th>\n",
       "      <td>536367</td>\n",
       "      <td>22745</td>\n",
       "      <td>POPPY'S PLAYHOUSE BEDROOM</td>\n",
       "      <td>6</td>\n",
       "      <td>2010-12-01 08:33:59</td>\n",
       "      <td>2.10</td>\n",
       "      <td>13047.0</td>\n",
       "      <td>United Kingdom</td>\n",
       "    </tr>\n",
       "  </tbody>\n",
       "</table>\n",
       "</div>"
      ],
      "text/plain": [
       "  InvoiceNo StockCode                          Description  Quantity  \\\n",
       "0    536365     22752         SET 7 BABUSHKA NESTING BOXES         2   \n",
       "1    536365     71053                  WHITE METAL LANTERN         6   \n",
       "2    536365    84029G  KNITTED UNION FLAG HOT WATER BOTTLE         6   \n",
       "3    536365    85123A   WHITE HANGING HEART T-LIGHT HOLDER         6   \n",
       "4    536366     22633               HAND WARMER UNION JACK         6   \n",
       "5    536367     21754             HOME BUILDING BLOCK WORD         3   \n",
       "6    536367     21755             LOVE BUILDING BLOCK WORD         3   \n",
       "7    536367     21777          RECIPE BOX WITH METAL HEART         4   \n",
       "8    536367     22310              IVORY KNITTED MUG COSY          6   \n",
       "9    536367     22745           POPPY'S PLAYHOUSE BEDROOM          6   \n",
       "\n",
       "           InvoiceDate  UnitPrice  CustomerID         Country  \n",
       "0  2010-12-01 08:26:02       7.65     17850.0  United Kingdom  \n",
       "1  2010-12-01 08:26:02       3.39     17850.0  United Kingdom  \n",
       "2  2010-12-01 08:26:02       3.39     17850.0  United Kingdom  \n",
       "3  2010-12-01 08:26:02       2.55     17850.0  United Kingdom  \n",
       "4  2010-12-01 08:28:02       1.85     17850.0  United Kingdom  \n",
       "5  2010-12-01 08:33:59       5.95     13047.0  United Kingdom  \n",
       "6  2010-12-01 08:33:59       5.95     13047.0  United Kingdom  \n",
       "7  2010-12-01 08:33:59       7.95     13047.0  United Kingdom  \n",
       "8  2010-12-01 08:33:59       1.65     13047.0  United Kingdom  \n",
       "9  2010-12-01 08:33:59       2.10     13047.0  United Kingdom  "
      ]
     },
     "execution_count": 3,
     "metadata": {},
     "output_type": "execute_result"
    }
   ],
   "source": [
    "# To get a quick view of the first 10 dataset entries\n",
    "retails.head(10)"
   ]
  },
  {
   "cell_type": "code",
   "execution_count": 4,
   "metadata": {
    "collapsed": false
   },
   "outputs": [
    {
     "data": {
      "text/plain": [
       "(325145, 8)"
      ]
     },
     "execution_count": 4,
     "metadata": {},
     "output_type": "execute_result"
    }
   ],
   "source": [
    "# To check the number of Rows and Number of Columns in the dataset\n",
    "retails.shape"
   ]
  },
  {
   "cell_type": "code",
   "execution_count": 5,
   "metadata": {
    "collapsed": false
   },
   "outputs": [
    {
     "data": {
      "text/plain": [
       "Index(['InvoiceNo', 'StockCode', 'Description', 'Quantity', 'InvoiceDate',\n",
       "       'UnitPrice', 'CustomerID', 'Country'],\n",
       "      dtype='object')"
      ]
     },
     "execution_count": 5,
     "metadata": {},
     "output_type": "execute_result"
    }
   ],
   "source": [
    "# To check the variables contained in the dataset\n",
    "retails.columns"
   ]
  },
  {
   "cell_type": "markdown",
   "metadata": {},
   "source": [
    "<h1 style=\"font-size:2em;color:#2467C0\">Data Cleaning and Exploratory Data Analysis</h1>\n",
    "\n",
    "First lets take a quick look at how the *Quantity* and *UnitPrice* entries are distributed. This will point out if the miminum and/or maximum values are in the valid range or not. The values in the *CustomerID* column are irrelevant for this purpose."
   ]
  },
  {
   "cell_type": "code",
   "execution_count": 6,
   "metadata": {
    "collapsed": false
   },
   "outputs": [
    {
     "data": {
      "text/html": [
       "<div>\n",
       "<table border=\"1\" class=\"dataframe\">\n",
       "  <thead>\n",
       "    <tr style=\"text-align: right;\">\n",
       "      <th></th>\n",
       "      <th>Quantity</th>\n",
       "      <th>UnitPrice</th>\n",
       "      <th>CustomerID</th>\n",
       "    </tr>\n",
       "  </thead>\n",
       "  <tbody>\n",
       "    <tr>\n",
       "      <th>count</th>\n",
       "      <td>325145.000000</td>\n",
       "      <td>325145.000000</td>\n",
       "      <td>244154.000000</td>\n",
       "    </tr>\n",
       "    <tr>\n",
       "      <th>mean</th>\n",
       "      <td>9.273340</td>\n",
       "      <td>4.845239</td>\n",
       "      <td>15288.823120</td>\n",
       "    </tr>\n",
       "    <tr>\n",
       "      <th>std</th>\n",
       "      <td>154.394112</td>\n",
       "      <td>116.830451</td>\n",
       "      <td>1713.496816</td>\n",
       "    </tr>\n",
       "    <tr>\n",
       "      <th>min</th>\n",
       "      <td>-80995.000000</td>\n",
       "      <td>-11062.060000</td>\n",
       "      <td>12347.000000</td>\n",
       "    </tr>\n",
       "    <tr>\n",
       "      <th>25%</th>\n",
       "      <td>1.000000</td>\n",
       "      <td>1.250000</td>\n",
       "      <td>13959.000000</td>\n",
       "    </tr>\n",
       "    <tr>\n",
       "      <th>50%</th>\n",
       "      <td>3.000000</td>\n",
       "      <td>2.080000</td>\n",
       "      <td>15150.000000</td>\n",
       "    </tr>\n",
       "    <tr>\n",
       "      <th>75%</th>\n",
       "      <td>10.000000</td>\n",
       "      <td>4.130000</td>\n",
       "      <td>16792.750000</td>\n",
       "    </tr>\n",
       "    <tr>\n",
       "      <th>max</th>\n",
       "      <td>12540.000000</td>\n",
       "      <td>38970.000000</td>\n",
       "      <td>18287.000000</td>\n",
       "    </tr>\n",
       "  </tbody>\n",
       "</table>\n",
       "</div>"
      ],
      "text/plain": [
       "            Quantity      UnitPrice     CustomerID\n",
       "count  325145.000000  325145.000000  244154.000000\n",
       "mean        9.273340       4.845239   15288.823120\n",
       "std       154.394112     116.830451    1713.496816\n",
       "min    -80995.000000  -11062.060000   12347.000000\n",
       "25%         1.000000       1.250000   13959.000000\n",
       "50%         3.000000       2.080000   15150.000000\n",
       "75%        10.000000       4.130000   16792.750000\n",
       "max     12540.000000   38970.000000   18287.000000"
      ]
     },
     "execution_count": 6,
     "metadata": {},
     "output_type": "execute_result"
    }
   ],
   "source": [
    "# to get statistics of the Quantity and UnitPrice columns of the dataset\n",
    "retails.describe()"
   ]
  },
  {
   "cell_type": "markdown",
   "metadata": {},
   "source": [
    "**Remarks:** It can be easily seen from above that the Quanity and UnitPrice columns contain some invalid data entries as pointed out by the negative values."
   ]
  },
  {
   "cell_type": "markdown",
   "metadata": {},
   "source": [
    "Now I am going to check for the missing values in the dataset"
   ]
  },
  {
   "cell_type": "code",
   "execution_count": 7,
   "metadata": {
    "collapsed": false
   },
   "outputs": [
    {
     "data": {
      "text/plain": [
       "InvoiceNo      False\n",
       "StockCode      False\n",
       "Description     True\n",
       "Quantity       False\n",
       "InvoiceDate    False\n",
       "UnitPrice      False\n",
       "CustomerID      True\n",
       "Country        False\n",
       "dtype: bool"
      ]
     },
     "execution_count": 7,
     "metadata": {},
     "output_type": "execute_result"
    }
   ],
   "source": [
    "# to check if any row in the DataFrame contains a missing value, also referred to as Null or NaN in Python.\n",
    "retails.isnull().any()"
   ]
  },
  {
   "cell_type": "markdown",
   "metadata": {},
   "source": [
    "**Remarks:** There are NULL values in the *Description* and *CustomerID* columns. The missing values for *CustomerID* cannot be imputed by taking the mean or some other measure of the values in the column. This is because of the inherent nature of the dataset and it will be bad for the model if fictitous values for *CustomerID* are used. As a result the only option to fix these missing values is to drop all the rows that contain missing values for the *CustomerID* column. "
   ]
  },
  {
   "cell_type": "code",
   "execution_count": 8,
   "metadata": {
    "collapsed": false
   },
   "outputs": [
    {
     "name": "stdout",
     "output_type": "stream",
     "text": [
      "Number of Rows dropped = 80991\n"
     ]
    }
   ],
   "source": [
    "# to create a copy of the DataFrame so that original DataFrame is preserved in case it is needed later.\n",
    "test = retails.copy()\n",
    "\n",
    "# No. of rows in original dataset\n",
    "b_remove = test.shape\n",
    "\n",
    "# to remove the missing values\n",
    "test = test.dropna()\n",
    "\n",
    "# No. of rows in dataset after removing missing values\n",
    "a_remove = test.shape\n",
    "\n",
    "# to display the No. of rows dropped\n",
    "print(\"Number of Rows dropped =\", b_remove[0] - a_remove[0])"
   ]
  },
  {
   "cell_type": "code",
   "execution_count": 9,
   "metadata": {
    "collapsed": false
   },
   "outputs": [
    {
     "data": {
      "text/plain": [
       "InvoiceNo      False\n",
       "StockCode      False\n",
       "Description    False\n",
       "Quantity       False\n",
       "InvoiceDate    False\n",
       "UnitPrice      False\n",
       "CustomerID     False\n",
       "Country        False\n",
       "dtype: bool"
      ]
     },
     "execution_count": 9,
     "metadata": {},
     "output_type": "execute_result"
    }
   ],
   "source": [
    "# to check if the dataset has any missing values in any column\n",
    "test.isnull().any()"
   ]
  },
  {
   "cell_type": "markdown",
   "metadata": {},
   "source": [
    "**Remarks:** As can be seen above, there are no more missing values in the dataframe..<br> <br> \n",
    "Now the next step is to check for invalid data entries in the dataset. \n",
    "This means that negative values in the *Quantity* column do not make sense as it is physically not possible in the real world to buy a negative quantity of items. Possible options to fix these values is to either assign them a value of zero, impute them with the mean of the column or to drop them. I have decided to drop these values. This is because assigning them zero value will not contribute to the revenue and is hence useless, and also imputing them with the mean value is not a good choice as it is not representative for all the customers.\n",
    "\n",
    "The negative values in the *UnitPrice* column indicate a cancelled order. It makes sense to drop these as well since they will also not contribute to the revenue generated for each customer per transaction.  "
   ]
  },
  {
   "cell_type": "code",
   "execution_count": 10,
   "metadata": {
    "collapsed": false
   },
   "outputs": [
    {
     "data": {
      "text/html": [
       "<div>\n",
       "<table border=\"1\" class=\"dataframe\">\n",
       "  <thead>\n",
       "    <tr style=\"text-align: right;\">\n",
       "      <th></th>\n",
       "      <th>Quantity</th>\n",
       "      <th>UnitPrice</th>\n",
       "      <th>CustomerID</th>\n",
       "    </tr>\n",
       "  </thead>\n",
       "  <tbody>\n",
       "    <tr>\n",
       "      <th>count</th>\n",
       "      <td>238616.000000</td>\n",
       "      <td>238616.000000</td>\n",
       "      <td>238616.000000</td>\n",
       "    </tr>\n",
       "    <tr>\n",
       "      <th>mean</th>\n",
       "      <td>12.533078</td>\n",
       "      <td>3.132172</td>\n",
       "      <td>15295.360085</td>\n",
       "    </tr>\n",
       "    <tr>\n",
       "      <th>std</th>\n",
       "      <td>43.252664</td>\n",
       "      <td>25.303354</td>\n",
       "      <td>1713.144643</td>\n",
       "    </tr>\n",
       "    <tr>\n",
       "      <th>min</th>\n",
       "      <td>1.000000</td>\n",
       "      <td>0.100000</td>\n",
       "      <td>12347.000000</td>\n",
       "    </tr>\n",
       "    <tr>\n",
       "      <th>25%</th>\n",
       "      <td>2.000000</td>\n",
       "      <td>1.250000</td>\n",
       "      <td>13969.000000</td>\n",
       "    </tr>\n",
       "    <tr>\n",
       "      <th>50%</th>\n",
       "      <td>6.000000</td>\n",
       "      <td>1.950000</td>\n",
       "      <td>15157.000000</td>\n",
       "    </tr>\n",
       "    <tr>\n",
       "      <th>75%</th>\n",
       "      <td>12.000000</td>\n",
       "      <td>3.750000</td>\n",
       "      <td>16800.000000</td>\n",
       "    </tr>\n",
       "    <tr>\n",
       "      <th>max</th>\n",
       "      <td>4800.000000</td>\n",
       "      <td>8142.750000</td>\n",
       "      <td>18287.000000</td>\n",
       "    </tr>\n",
       "  </tbody>\n",
       "</table>\n",
       "</div>"
      ],
      "text/plain": [
       "            Quantity      UnitPrice     CustomerID\n",
       "count  238616.000000  238616.000000  238616.000000\n",
       "mean       12.533078       3.132172   15295.360085\n",
       "std        43.252664      25.303354    1713.144643\n",
       "min         1.000000       0.100000   12347.000000\n",
       "25%         2.000000       1.250000   13969.000000\n",
       "50%         6.000000       1.950000   15157.000000\n",
       "75%        12.000000       3.750000   16800.000000\n",
       "max      4800.000000    8142.750000   18287.000000"
      ]
     },
     "execution_count": 10,
     "metadata": {},
     "output_type": "execute_result"
    }
   ],
   "source": [
    "# to create a filter for positive values of Quantity\n",
    "is_positive_value_1 = test['Quantity'] > 0.0\n",
    "\n",
    "# to create a filter for positive values of UnitPrice\n",
    "is_positive_value_2 = test['UnitPrice'] >= 0.1\n",
    "\n",
    "# to apply the 2 filters and store in new dataframe \n",
    "test_positive_values = test[is_positive_value_1 & is_positive_value_2]\n",
    "\n",
    "# to get summary statistics of the new dataframe\n",
    "test_positive_values.describe()"
   ]
  },
  {
   "cell_type": "code",
   "execution_count": 11,
   "metadata": {
    "collapsed": false
   },
   "outputs": [
    {
     "data": {
      "text/plain": [
       "4290"
      ]
     },
     "execution_count": 11,
     "metadata": {},
     "output_type": "execute_result"
    }
   ],
   "source": [
    "# to check for total No. of Unique Customers in Database.\n",
    "test_positive_values['CustomerID'].value_counts().size"
   ]
  },
  {
   "cell_type": "markdown",
   "metadata": {},
   "source": [
    "**Remarks:** The values for *Quantity* and *UnitPrice* columns are all positive!"
   ]
  },
  {
   "cell_type": "markdown",
   "metadata": {},
   "source": [
    "<h1 style=\"font-size:2em;color:#2467C0\">Data Exploration</h1>\n",
    "\n",
    "First, I am going to visualise the data obtained thus far. Based on this I will decide if further steps need to be taken to improve the data. <br>\n",
    "\n",
    "*Note:* Here, and as for all the visualisations to follow in this notebook, I have used the R libraries *ggplot2, grid* and *gridExtra*. These will be needed in order to run the R code in this notebook. "
   ]
  },
  {
   "cell_type": "code",
   "execution_count": 12,
   "metadata": {
    "collapsed": false
   },
   "outputs": [
    {
     "name": "stdout",
     "output_type": "stream",
     "text": [
      "[1] \"E:/PythonAnaconda/R\"\n",
      "\n",
      "[1] \"E:/PythonAnaconda/R/library\"\n",
      "\n"
     ]
    }
   ],
   "source": [
    "# to check the Path of the R library from where Anaconda is accessing R libraries. Make sure the required libraries are contained in this Path.\n",
    "from rpy2.robjects.packages import importr\n",
    "base = importr('base')\n",
    "print(base.R_home())\n",
    "print(base._libPaths())\n"
   ]
  },
  {
   "cell_type": "code",
   "execution_count": 17,
   "metadata": {
    "collapsed": false
   },
   "outputs": [],
   "source": [
    "%%R -i test_positive_values\n",
    "\n",
    "#to interface R with Python and create an R dataframe of the same name\n",
    "#library(ggplot2)\n",
    "#require(ggplot2)\n",
    "\n",
    "#library(grid)\n",
    "#require(grid)\n",
    "\n",
    "# to plot a Scatter Plot of Quantity against CustomerID\n",
    "ggplot(test_positive_values, aes(x=CustomerID, y=Quantity, color=CustomerID)) + geom_point()"
   ]
  },
  {
   "cell_type": "markdown",
   "metadata": {},
   "source": [
    "**Remarks:** It can be seen that the *Quantity* values contain some Outliers. Majority of the values are less than 1000."
   ]
  },
  {
   "cell_type": "code",
   "execution_count": 930,
   "metadata": {
    "collapsed": false
   },
   "outputs": [
    {
     "data": {
      "image/png": "[encoded data removed]"
     },
     "metadata": {},
     "output_type": "display_data"
    }
   ],
   "source": [
    "%%R\n",
    "#to interface R with Python and create an R dataframe of the same name\n",
    "\n",
    "# to plot a Scatter Plot of Quantity against CustomerID\n",
    "ggplot(test_positive_values, \n",
    "       aes(x=CustomerID, y=UnitPrice, color=CustomerID)) + \n",
    "    geom_point() + \n",
    "    ggtitle(\"UKRetail Unit Prices per Customers\") +\n",
    "    labs(x=\"CustomerID\",y=\"Unit Price\") + \n",
    "    theme(plot.title = element_text(family = \"Trebuchet MS\", color=\"#666666\", face=\"bold\", size=20, hjust=0)) +\n",
    "    theme(axis.title = element_text(family = \"Trebuchet MS\", color=\"#666666\", face=\"bold\", size=15))\n",
    "\n",
    "#library(gridExtra)\n",
    "#require(gridExtra)\n",
    "#grid.arrange(p1, p2, ncol=2, widths= 2)"
   ]
  },
  {
   "cell_type": "markdown",
   "metadata": {},
   "source": [
    "**Remarks:** It can be seen that the *UnitPrice* values contain some Outliers. Majority of the values are very small in magnitude."
   ]
  },
  {
   "cell_type": "markdown",
   "metadata": {},
   "source": [
    "These Outliers need to be removed. Since the values for UnitPrice seems to be much smaller in magnitude, I am going to keep only the values for *UnitPrice* and *Quantity* that are less than the 90% percentile of values for the respective Columns. "
   ]
  },
  {
   "cell_type": "code",
   "execution_count": 18,
   "metadata": {
    "collapsed": false
   },
   "outputs": [
    {
     "data": {
      "text/plain": [
       "6.35"
      ]
     },
     "execution_count": 18,
     "metadata": {},
     "output_type": "execute_result"
    }
   ],
   "source": [
    "# to get the 90% percentile value for UnitPrice\n",
    "test_positive_values.UnitPrice.quantile(.90)"
   ]
  },
  {
   "cell_type": "code",
   "execution_count": 19,
   "metadata": {
    "collapsed": false
   },
   "outputs": [
    {
     "data": {
      "text/plain": [
       "36.0"
      ]
     },
     "execution_count": 19,
     "metadata": {},
     "output_type": "execute_result"
    }
   ],
   "source": [
    "# to get the 95% percentile value for Quantity\n",
    "test_positive_values.Quantity.quantile(.95)"
   ]
  },
  {
   "cell_type": "code",
   "execution_count": 20,
   "metadata": {
    "collapsed": false
   },
   "outputs": [],
   "source": [
    "# to make a copy of the dataframe so far\n",
    "tpv = test_positive_values.copy()\n",
    "\n",
    "# to create a filter based on lesser than 90% percentile of UnitPrice values\n",
    "in_std_UP = tpv['UnitPrice'] <= test_positive_values.UnitPrice.quantile(.90)\n",
    "\n",
    "# to create a filter based on lesser than 95% percentile of Quantity values\n",
    "in_std_QTY = tpv['Quantity'] <= test_positive_values.Quantity.quantile(.95)\n",
    "\n",
    "# to apply the 2 filters and store in new dataframe\n",
    "tpv_in_std = tpv[in_std_QTY & in_std_UP]"
   ]
  },
  {
   "cell_type": "code",
   "execution_count": 21,
   "metadata": {
    "collapsed": false
   },
   "outputs": [
    {
     "data": {
      "text/html": [
       "<div>\n",
       "<table border=\"1\" class=\"dataframe\">\n",
       "  <thead>\n",
       "    <tr style=\"text-align: right;\">\n",
       "      <th></th>\n",
       "      <th>Quantity</th>\n",
       "      <th>UnitPrice</th>\n",
       "      <th>CustomerID</th>\n",
       "    </tr>\n",
       "  </thead>\n",
       "  <tbody>\n",
       "    <tr>\n",
       "      <th>count</th>\n",
       "      <td>203464.000000</td>\n",
       "      <td>203464.000000</td>\n",
       "      <td>203464.000000</td>\n",
       "    </tr>\n",
       "    <tr>\n",
       "      <th>mean</th>\n",
       "      <td>7.968412</td>\n",
       "      <td>2.108118</td>\n",
       "      <td>15322.717414</td>\n",
       "    </tr>\n",
       "    <tr>\n",
       "      <th>std</th>\n",
       "      <td>7.570649</td>\n",
       "      <td>1.441610</td>\n",
       "      <td>1712.234637</td>\n",
       "    </tr>\n",
       "    <tr>\n",
       "      <th>min</th>\n",
       "      <td>1.000000</td>\n",
       "      <td>0.100000</td>\n",
       "      <td>12347.000000</td>\n",
       "    </tr>\n",
       "    <tr>\n",
       "      <th>25%</th>\n",
       "      <td>2.000000</td>\n",
       "      <td>1.060000</td>\n",
       "      <td>13988.000000</td>\n",
       "    </tr>\n",
       "    <tr>\n",
       "      <th>50%</th>\n",
       "      <td>6.000000</td>\n",
       "      <td>1.650000</td>\n",
       "      <td>15237.000000</td>\n",
       "    </tr>\n",
       "    <tr>\n",
       "      <th>75%</th>\n",
       "      <td>12.000000</td>\n",
       "      <td>2.950000</td>\n",
       "      <td>16818.000000</td>\n",
       "    </tr>\n",
       "    <tr>\n",
       "      <th>max</th>\n",
       "      <td>36.000000</td>\n",
       "      <td>6.350000</td>\n",
       "      <td>18287.000000</td>\n",
       "    </tr>\n",
       "  </tbody>\n",
       "</table>\n",
       "</div>"
      ],
      "text/plain": [
       "            Quantity      UnitPrice     CustomerID\n",
       "count  203464.000000  203464.000000  203464.000000\n",
       "mean        7.968412       2.108118   15322.717414\n",
       "std         7.570649       1.441610    1712.234637\n",
       "min         1.000000       0.100000   12347.000000\n",
       "25%         2.000000       1.060000   13988.000000\n",
       "50%         6.000000       1.650000   15237.000000\n",
       "75%        12.000000       2.950000   16818.000000\n",
       "max        36.000000       6.350000   18287.000000"
      ]
     },
     "execution_count": 21,
     "metadata": {},
     "output_type": "execute_result"
    }
   ],
   "source": [
    "# to get summary statistics\n",
    "tpv_in_std.describe()\n"
   ]
  },
  {
   "cell_type": "code",
   "execution_count": 955,
   "metadata": {
    "collapsed": false
   },
   "outputs": [
    {
     "data": {
      "image/png": "[encoded data removed]"
     },
     "metadata": {},
     "output_type": "display_data"
    }
   ],
   "source": [
    "%%R -i tpv_in_std\n",
    "# to interface R to Python\n",
    "\n",
    "# to plot a BoxPlot of Quantity against CustomerID\n",
    "p1 <- ggplot(tpv_in_std, aes(x = CustomerID, y = Quantity)) +\n",
    "  geom_boxplot(outlier.colour = \"red\", outlier.shape = 1) +\n",
    "  ggtitle(\"Box Plot for Quantity\") +\n",
    "  labs(x=\"CustomerID\",y=\"Quantity\") + \n",
    "  theme(plot.title = element_text(family = \"Trebuchet MS\", color=\"#666666\", face=\"bold\", size=20, hjust=0)) +\n",
    "  theme(axis.title = element_text(family = \"Trebuchet MS\", color=\"#666666\", face=\"bold\", size=15))\n",
    "\n",
    "# to plot a BoxPlot of UnitPrice against CustomerID\n",
    "p2 <- ggplot(tpv_in_std, aes(x = CustomerID, y = UnitPrice)) +\n",
    "  geom_boxplot(outlier.colour = \"red\", outlier.shape = 1) +\n",
    "  ggtitle(\"Box Plot for UnitPrice\") +\n",
    "  labs(x=\"CustomerID\",y=\"Unit Price\") + \n",
    "  theme(plot.title = element_text(family = \"Trebuchet MS\", color=\"#666666\", face=\"bold\", size=20, hjust=0)) +\n",
    "  theme(axis.title = element_text(family = \"Trebuchet MS\", color=\"#666666\", face=\"bold\", size=15))\n",
    "\n",
    "\n",
    "# to create a Multi-plot of the above Box Plots using the R-library gridExtra\n",
    "library(gridExtra)\n",
    "require(gridExtra)\n",
    "grid.arrange(p1, p2, ncol=2)"
   ]
  },
  {
   "cell_type": "markdown",
   "metadata": {},
   "source": [
    "**Remarks:** The number of Outliers (shown above in Red) for both the Columns have reduced considerably."
   ]
  },
  {
   "cell_type": "markdown",
   "metadata": {},
   "source": [
    "To proceed further the revenue of each quantity needs to be calculated. A simple calculation of multiplying the *Quantity* column with *UnitPrice* column yields the desired output. A new column *Revenue* containing these calculated values is added to the DataFrame."
   ]
  },
  {
   "cell_type": "code",
   "execution_count": 22,
   "metadata": {
    "collapsed": false
   },
   "outputs": [
    {
     "data": {
      "text/html": [
       "<div>\n",
       "<table border=\"1\" class=\"dataframe\">\n",
       "  <thead>\n",
       "    <tr style=\"text-align: right;\">\n",
       "      <th></th>\n",
       "      <th>CustomerID</th>\n",
       "      <th>Revenue</th>\n",
       "    </tr>\n",
       "  </thead>\n",
       "  <tbody>\n",
       "    <tr>\n",
       "      <th>1</th>\n",
       "      <td>17850.0</td>\n",
       "      <td>20.34</td>\n",
       "    </tr>\n",
       "    <tr>\n",
       "      <th>2</th>\n",
       "      <td>17850.0</td>\n",
       "      <td>20.34</td>\n",
       "    </tr>\n",
       "    <tr>\n",
       "      <th>3</th>\n",
       "      <td>17850.0</td>\n",
       "      <td>15.30</td>\n",
       "    </tr>\n",
       "    <tr>\n",
       "      <th>4</th>\n",
       "      <td>17850.0</td>\n",
       "      <td>11.10</td>\n",
       "    </tr>\n",
       "    <tr>\n",
       "      <th>5</th>\n",
       "      <td>13047.0</td>\n",
       "      <td>17.85</td>\n",
       "    </tr>\n",
       "  </tbody>\n",
       "</table>\n",
       "</div>"
      ],
      "text/plain": [
       "   CustomerID  Revenue\n",
       "1     17850.0    20.34\n",
       "2     17850.0    20.34\n",
       "3     17850.0    15.30\n",
       "4     17850.0    11.10\n",
       "5     13047.0    17.85"
      ]
     },
     "execution_count": 22,
     "metadata": {},
     "output_type": "execute_result"
    }
   ],
   "source": [
    "# to make a copy of the dataframe\n",
    "test_a = tpv_in_std.copy()\n",
    "\n",
    "# to get the Revenue = Quantity*UnitPrice for each row and store it in a new Column\n",
    "test_a['Revenue'] = test_a['Quantity']*test_a['UnitPrice']\n",
    "\n",
    "#to make a new copy of the dataframe\n",
    "test_b = test_a.copy()\n",
    "\n",
    "#to drop all the other irrelevant columns of the dataset.\n",
    "test_b.drop(test_b.columns[[0,1,2,3,4,5,7]], inplace=True, axis=1)\n",
    "\n",
    "# to check the first 5 rows of the dataset\n",
    "test_b.head()"
   ]
  },
  {
   "cell_type": "code",
   "execution_count": 23,
   "metadata": {
    "collapsed": false
   },
   "outputs": [
    {
     "data": {
      "text/html": [
       "<div>\n",
       "<table border=\"1\" class=\"dataframe\">\n",
       "  <thead>\n",
       "    <tr style=\"text-align: right;\">\n",
       "      <th></th>\n",
       "      <th>CustomerID</th>\n",
       "      <th>Revenue</th>\n",
       "    </tr>\n",
       "  </thead>\n",
       "  <tbody>\n",
       "    <tr>\n",
       "      <th>count</th>\n",
       "      <td>203464.000000</td>\n",
       "      <td>203464.000000</td>\n",
       "    </tr>\n",
       "    <tr>\n",
       "      <th>mean</th>\n",
       "      <td>15322.717414</td>\n",
       "      <td>13.005671</td>\n",
       "    </tr>\n",
       "    <tr>\n",
       "      <th>std</th>\n",
       "      <td>1712.234637</td>\n",
       "      <td>13.811547</td>\n",
       "    </tr>\n",
       "    <tr>\n",
       "      <th>min</th>\n",
       "      <td>12347.000000</td>\n",
       "      <td>0.120000</td>\n",
       "    </tr>\n",
       "    <tr>\n",
       "      <th>5%</th>\n",
       "      <td>12647.000000</td>\n",
       "      <td>1.250000</td>\n",
       "    </tr>\n",
       "    <tr>\n",
       "      <th>25%</th>\n",
       "      <td>13988.000000</td>\n",
       "      <td>3.800000</td>\n",
       "    </tr>\n",
       "    <tr>\n",
       "      <th>50%</th>\n",
       "      <td>15237.000000</td>\n",
       "      <td>10.080000</td>\n",
       "    </tr>\n",
       "    <tr>\n",
       "      <th>75%</th>\n",
       "      <td>16818.000000</td>\n",
       "      <td>17.400000</td>\n",
       "    </tr>\n",
       "    <tr>\n",
       "      <th>95%</th>\n",
       "      <td>17920.000000</td>\n",
       "      <td>35.400000</td>\n",
       "    </tr>\n",
       "    <tr>\n",
       "      <th>max</th>\n",
       "      <td>18287.000000</td>\n",
       "      <td>225.000000</td>\n",
       "    </tr>\n",
       "  </tbody>\n",
       "</table>\n",
       "</div>"
      ],
      "text/plain": [
       "          CustomerID        Revenue\n",
       "count  203464.000000  203464.000000\n",
       "mean    15322.717414      13.005671\n",
       "std      1712.234637      13.811547\n",
       "min     12347.000000       0.120000\n",
       "5%      12647.000000       1.250000\n",
       "25%     13988.000000       3.800000\n",
       "50%     15237.000000      10.080000\n",
       "75%     16818.000000      17.400000\n",
       "95%     17920.000000      35.400000\n",
       "max     18287.000000     225.000000"
      ]
     },
     "execution_count": 23,
     "metadata": {},
     "output_type": "execute_result"
    }
   ],
   "source": [
    "# to get summary statistics\n",
    "test_b.describe([0.05, 0.25, 0.50, 0.75, 0.95])"
   ]
  },
  {
   "cell_type": "code",
   "execution_count": 967,
   "metadata": {
    "collapsed": false
   },
   "outputs": [
    {
     "data": {
      "image/png": "[encoded data removed]"
     },
     "metadata": {},
     "output_type": "display_data"
    }
   ],
   "source": [
    "%%R -i test_b\n",
    "# to interface R to Python\n",
    "\n",
    "# to plot a BoxPlot of Revenue against CustomerID\n",
    "ggplot(test_b, aes(x = CustomerID, y = Revenue)) +\n",
    "  geom_boxplot(outlier.colour = \"red\", outlier.shape = 1) +\n",
    "  ggtitle(\"                 Box Plot for Revenue\") +\n",
    "  labs(x=\"CustomerID\",y=\"Revenue\") + \n",
    "  theme(plot.title = element_text(family = \"Trebuchet MS\", color=\"#666666\", face=\"bold\", size=20, hjust=0)) +\n",
    "  theme(axis.title = element_text(family = \"Trebuchet MS\", color=\"#666666\", face=\"bold\", size=15))"
   ]
  },
  {
   "cell_type": "markdown",
   "metadata": {},
   "source": [
    "**Remarks:** The Box Plot shows that there exist Outliers in the Data and also that a large part of the data has smaller values. I will again further prune the data using the percentiles approach. The refined data will contain values between the 5% and 95% percentiles. This is because the *test_b* summary statistics above show that the 95% percentile value for *Revenue* is 35.4 which is much smaller than the maximum value of 225."
   ]
  },
  {
   "cell_type": "code",
   "execution_count": 24,
   "metadata": {
    "collapsed": false
   },
   "outputs": [
    {
     "data": {
      "text/html": [
       "<div>\n",
       "<table border=\"1\" class=\"dataframe\">\n",
       "  <thead>\n",
       "    <tr style=\"text-align: right;\">\n",
       "      <th></th>\n",
       "      <th>CustomerID</th>\n",
       "      <th>Revenue</th>\n",
       "    </tr>\n",
       "  </thead>\n",
       "  <tbody>\n",
       "    <tr>\n",
       "      <th>count</th>\n",
       "      <td>174887.000000</td>\n",
       "      <td>174887.000000</td>\n",
       "    </tr>\n",
       "    <tr>\n",
       "      <th>mean</th>\n",
       "      <td>15335.647327</td>\n",
       "      <td>10.189313</td>\n",
       "    </tr>\n",
       "    <tr>\n",
       "      <th>std</th>\n",
       "      <td>1706.671782</td>\n",
       "      <td>6.675768</td>\n",
       "    </tr>\n",
       "    <tr>\n",
       "      <th>min</th>\n",
       "      <td>12347.000000</td>\n",
       "      <td>1.250000</td>\n",
       "    </tr>\n",
       "    <tr>\n",
       "      <th>25%</th>\n",
       "      <td>14009.000000</td>\n",
       "      <td>4.150000</td>\n",
       "    </tr>\n",
       "    <tr>\n",
       "      <th>50%</th>\n",
       "      <td>15271.000000</td>\n",
       "      <td>9.900000</td>\n",
       "    </tr>\n",
       "    <tr>\n",
       "      <th>75%</th>\n",
       "      <td>16837.000000</td>\n",
       "      <td>15.300000</td>\n",
       "    </tr>\n",
       "    <tr>\n",
       "      <th>max</th>\n",
       "      <td>18287.000000</td>\n",
       "      <td>25.200000</td>\n",
       "    </tr>\n",
       "  </tbody>\n",
       "</table>\n",
       "</div>"
      ],
      "text/plain": [
       "          CustomerID        Revenue\n",
       "count  174887.000000  174887.000000\n",
       "mean    15335.647327      10.189313\n",
       "std      1706.671782       6.675768\n",
       "min     12347.000000       1.250000\n",
       "25%     14009.000000       4.150000\n",
       "50%     15271.000000       9.900000\n",
       "75%     16837.000000      15.300000\n",
       "max     18287.000000      25.200000"
      ]
     },
     "execution_count": 24,
     "metadata": {},
     "output_type": "execute_result"
    }
   ],
   "source": [
    "# to make a copy of dataframe\n",
    "test_c = test_b.copy()\n",
    "\n",
    "# to create a filter based on lesser than 90% percentile of Revenue values\n",
    "percentile_above = test_c['Revenue'] <= test_c.Revenue.quantile(.90)\n",
    "\n",
    "# to create a filter based on larger than 5% percentile of Revenue values\n",
    "percentile_below = test_c['Revenue'] >= test_c.Revenue.quantile(.05)\n",
    "\n",
    "# to apply the 2 filters and store in new dataframe\n",
    "trimmed_data = test_c[percentile_above & percentile_below]\n",
    "\n",
    "# to store the new dataframe back\n",
    "test_b = trimmed_data.copy()\n",
    "\n",
    "#to get the summary statistics of the trimmed data\n",
    "test_b.describe()"
   ]
  },
  {
   "cell_type": "markdown",
   "metadata": {},
   "source": [
    "**Remarks:** Let's check the Box Plot for a visualisation of the refined data."
   ]
  },
  {
   "cell_type": "code",
   "execution_count": 969,
   "metadata": {
    "collapsed": false
   },
   "outputs": [
    {
     "data": {
      "image/png": "[encoded data removed]"
     },
     "metadata": {},
     "output_type": "display_data"
    }
   ],
   "source": [
    "%%R -i test_b\n",
    "# to interface R to Python\n",
    "\n",
    "# to plot a BoxPlot of Revenue against CustomerID\n",
    "ggplot(test_b, aes(x = CustomerID, y = Revenue)) +\n",
    "  geom_boxplot(outlier.colour = \"red\", outlier.shape = 1) +\n",
    "  ggtitle(\"                 Box Plot for Revenue\") +\n",
    "  labs(x=\"CustomerID\",y=\"Revenue\") + \n",
    "  theme(plot.title = element_text(family = \"Trebuchet MS\", color=\"#666666\", face=\"bold\", size=20, hjust=0)) +\n",
    "  theme(axis.title = element_text(family = \"Trebuchet MS\", color=\"#666666\", face=\"bold\", size=15))"
   ]
  },
  {
   "cell_type": "markdown",
   "metadata": {},
   "source": [
    "**Remarks:** The refined data does not contain Outliers anymore."
   ]
  },
  {
   "cell_type": "markdown",
   "metadata": {
    "collapsed": true
   },
   "source": [
    "Returning to the original task, the next step is to group the subsets of rows for each time a separate customer makes an order. This means that the values in the Revenue column have to be summed up to give the total value of the order for every customer. In other words, we need to do a grouping of Orders placed by *CustomerID* and add up the revenue generated per order for each *CustomerID*. <br> <br>\n",
    "In Pandas this can be done using the *groupby* method."
   ]
  },
  {
   "cell_type": "code",
   "execution_count": 25,
   "metadata": {
    "collapsed": false
   },
   "outputs": [
    {
     "data": {
      "text/plain": [
       "CustomerID  CustomerID\n",
       "17581.0     14693         147.40\n",
       "12748.0     14694          44.80\n",
       "17581.0     14695          47.22\n",
       "15804.0     14696         154.41\n",
       "12680.0     14697         139.85\n",
       "Name: Revenue, dtype: float64"
      ]
     },
     "execution_count": 25,
     "metadata": {},
     "output_type": "execute_result"
    }
   ],
   "source": [
    "# to Group in Bunch of Orders placed by CustomerID and adding up Revenue generated per Order for each CustomerID\n",
    "group_revenue = test_b.groupby(['CustomerID',test_b.CustomerID.diff().ne(0).cumsum()],sort=False)['Revenue'].sum()\n",
    "\n",
    "#to check the last 5 values\n",
    "group_revenue.tail()"
   ]
  },
  {
   "cell_type": "code",
   "execution_count": 26,
   "metadata": {
    "collapsed": false
   },
   "outputs": [
    {
     "data": {
      "text/plain": [
       "pandas.core.series.Series"
      ]
     },
     "execution_count": 26,
     "metadata": {},
     "output_type": "execute_result"
    }
   ],
   "source": [
    "type(group_revenue)"
   ]
  },
  {
   "cell_type": "markdown",
   "metadata": {},
   "source": [
    "**Remarks:** The *groupby* method takes as input a DataFrame and gives as output a Series"
   ]
  },
  {
   "cell_type": "code",
   "execution_count": 27,
   "metadata": {
    "collapsed": false
   },
   "outputs": [
    {
     "data": {
      "text/plain": [
       "pandas.core.frame.DataFrame"
      ]
     },
     "execution_count": 27,
     "metadata": {},
     "output_type": "execute_result"
    }
   ],
   "source": [
    "# to convert the Series into a Dataframe\n",
    "group_revenue_df = group_revenue.reset_index(0).reset_index(drop=True)\n",
    "\n",
    "#to check the datatype\n",
    "type(group_revenue_df)"
   ]
  },
  {
   "cell_type": "code",
   "execution_count": 28,
   "metadata": {
    "collapsed": false
   },
   "outputs": [
    {
     "data": {
      "text/html": [
       "<div>\n",
       "<table border=\"1\" class=\"dataframe\">\n",
       "  <thead>\n",
       "    <tr style=\"text-align: right;\">\n",
       "      <th></th>\n",
       "      <th>CustomerID</th>\n",
       "      <th>Revenue</th>\n",
       "    </tr>\n",
       "  </thead>\n",
       "  <tbody>\n",
       "    <tr>\n",
       "      <th>count</th>\n",
       "      <td>14697.000000</td>\n",
       "      <td>14697.000000</td>\n",
       "    </tr>\n",
       "    <tr>\n",
       "      <th>mean</th>\n",
       "      <td>15264.840852</td>\n",
       "      <td>121.247765</td>\n",
       "    </tr>\n",
       "    <tr>\n",
       "      <th>std</th>\n",
       "      <td>1728.182618</td>\n",
       "      <td>114.328953</td>\n",
       "    </tr>\n",
       "    <tr>\n",
       "      <th>min</th>\n",
       "      <td>12347.000000</td>\n",
       "      <td>1.250000</td>\n",
       "    </tr>\n",
       "    <tr>\n",
       "      <th>5%</th>\n",
       "      <td>12627.800000</td>\n",
       "      <td>15.000000</td>\n",
       "    </tr>\n",
       "    <tr>\n",
       "      <th>50%</th>\n",
       "      <td>15159.000000</td>\n",
       "      <td>92.900000</td>\n",
       "    </tr>\n",
       "    <tr>\n",
       "      <th>99%</th>\n",
       "      <td>18225.040000</td>\n",
       "      <td>534.446000</td>\n",
       "    </tr>\n",
       "    <tr>\n",
       "      <th>max</th>\n",
       "      <td>18287.000000</td>\n",
       "      <td>1823.260000</td>\n",
       "    </tr>\n",
       "  </tbody>\n",
       "</table>\n",
       "</div>"
      ],
      "text/plain": [
       "         CustomerID       Revenue\n",
       "count  14697.000000  14697.000000\n",
       "mean   15264.840852    121.247765\n",
       "std     1728.182618    114.328953\n",
       "min    12347.000000      1.250000\n",
       "5%     12627.800000     15.000000\n",
       "50%    15159.000000     92.900000\n",
       "99%    18225.040000    534.446000\n",
       "max    18287.000000   1823.260000"
      ]
     },
     "execution_count": 28,
     "metadata": {},
     "output_type": "execute_result"
    }
   ],
   "source": [
    "#group_revenue.drop(group_revenue.columns[[0]], inplace=True, axis=1)\n",
    "group_revenue_df.describe([0.05, 0.99])"
   ]
  },
  {
   "cell_type": "code",
   "execution_count": 979,
   "metadata": {
    "collapsed": false
   },
   "outputs": [
    {
     "data": {
      "image/png": "[encoded data removed]"
     },
     "metadata": {},
     "output_type": "display_data"
    }
   ],
   "source": [
    "%%R -i group_revenue_df\n",
    "#to interface R with Python and create an R dataframe of the same name\n",
    "\n",
    "# to plot a Scatter Plot of Quantity against CustomerID\n",
    "ggplot(group_revenue_df, \n",
    "       aes(x=CustomerID, y=Revenue, color=CustomerID)) + \n",
    "    geom_point() + \n",
    "    ggtitle(\"Grouped Revenue per Customer\") +\n",
    "    labs(x=\"CustomerID\",y=\"Grouped Revenue\") + \n",
    "    theme(plot.title = element_text(family = \"Trebuchet MS\", color=\"#666666\", face=\"bold\", size=20, hjust=0)) +\n",
    "    theme(axis.title = element_text(family = \"Trebuchet MS\", color=\"#666666\", face=\"bold\", size=15))\n"
   ]
  },
  {
   "cell_type": "code",
   "execution_count": 29,
   "metadata": {
    "collapsed": false
   },
   "outputs": [
    {
     "data": {
      "text/html": [
       "<div>\n",
       "<table border=\"1\" class=\"dataframe\">\n",
       "  <thead>\n",
       "    <tr style=\"text-align: right;\">\n",
       "      <th></th>\n",
       "      <th>CustomerID</th>\n",
       "      <th>Revenue</th>\n",
       "    </tr>\n",
       "  </thead>\n",
       "  <tbody>\n",
       "    <tr>\n",
       "      <th>0</th>\n",
       "      <td>17850.0</td>\n",
       "      <td>67.08</td>\n",
       "    </tr>\n",
       "    <tr>\n",
       "      <th>1</th>\n",
       "      <td>13047.0</td>\n",
       "      <td>100.50</td>\n",
       "    </tr>\n",
       "    <tr>\n",
       "      <th>2</th>\n",
       "      <td>12583.0</td>\n",
       "      <td>39.00</td>\n",
       "    </tr>\n",
       "    <tr>\n",
       "      <th>3</th>\n",
       "      <td>17850.0</td>\n",
       "      <td>257.00</td>\n",
       "    </tr>\n",
       "    <tr>\n",
       "      <th>4</th>\n",
       "      <td>14688.0</td>\n",
       "      <td>174.40</td>\n",
       "    </tr>\n",
       "    <tr>\n",
       "      <th>5</th>\n",
       "      <td>15311.0</td>\n",
       "      <td>87.80</td>\n",
       "    </tr>\n",
       "    <tr>\n",
       "      <th>6</th>\n",
       "      <td>16098.0</td>\n",
       "      <td>74.60</td>\n",
       "    </tr>\n",
       "    <tr>\n",
       "      <th>7</th>\n",
       "      <td>18074.0</td>\n",
       "      <td>17.85</td>\n",
       "    </tr>\n",
       "    <tr>\n",
       "      <th>8</th>\n",
       "      <td>17420.0</td>\n",
       "      <td>68.40</td>\n",
       "    </tr>\n",
       "    <tr>\n",
       "      <th>9</th>\n",
       "      <td>16250.0</td>\n",
       "      <td>127.80</td>\n",
       "    </tr>\n",
       "  </tbody>\n",
       "</table>\n",
       "</div>"
      ],
      "text/plain": [
       "   CustomerID  Revenue\n",
       "0     17850.0    67.08\n",
       "1     13047.0   100.50\n",
       "2     12583.0    39.00\n",
       "3     17850.0   257.00\n",
       "4     14688.0   174.40\n",
       "5     15311.0    87.80\n",
       "6     16098.0    74.60\n",
       "7     18074.0    17.85\n",
       "8     17420.0    68.40\n",
       "9     16250.0   127.80"
      ]
     },
     "execution_count": 29,
     "metadata": {},
     "output_type": "execute_result"
    }
   ],
   "source": [
    "group_revenue_df.head(10)"
   ]
  },
  {
   "cell_type": "markdown",
   "metadata": {},
   "source": [
    "<h1 style=\"font-size:2em;color:#2467C0\">Machine Learning Model</h1>\n",
    "\n",
    "\n",
    "To building the Machine Learning Model, I have extracted the *CustomerID* into the X variable and *Revenue* into the target y variable. \n",
    "<br><br></p>\n"
   ]
  },
  {
   "cell_type": "code",
   "execution_count": 37,
   "metadata": {
    "collapsed": true
   },
   "outputs": [],
   "source": [
    "# to get the X variable from the Dataframe\n",
    "X = group_revenue_df['CustomerID']\n",
    "\n",
    "#to get the y variable from the Dataframe\n",
    "y = group_revenue_df['Revenue']"
   ]
  },
  {
   "cell_type": "markdown",
   "metadata": {},
   "source": [
    "<p style=\"font-family: Arial; font-size:1.75em;color:purple; font-style:bold\"><br>\n",
    "\n",
    "Split the Dataset into Training and Test Datasets\n",
    "<br><br></p>\n",
    "\n",
    "The sample and target data are split into 2 groups of test and train data. The ratio of the 2 sets is set to 0.33 and a random state has been specified so that the results can be replicated."
   ]
  },
  {
   "cell_type": "code",
   "execution_count": 38,
   "metadata": {
    "collapsed": true
   },
   "outputs": [],
   "source": [
    "# to split the data into Train and Test sets\n",
    "X_train, X_test, y_train, y_test = train_test_split(X, y, test_size=0.33, random_state=324)"
   ]
  },
  {
   "cell_type": "markdown",
   "metadata": {},
   "source": [
    "The train_test_split function returns np arrays. So below I have converted them back to a DataFrame"
   ]
  },
  {
   "cell_type": "code",
   "execution_count": 39,
   "metadata": {
    "collapsed": false
   },
   "outputs": [],
   "source": [
    "# to convert the np arrays into Dataframes\n",
    "X_train = np.array(X_train).reshape((-1, 1))\n",
    "X_test = np.array(X_test).reshape((-1, 1))\n",
    "y_train = np.array(y_train).reshape(-1,1)\n",
    "y_test = np.array(y_test).reshape(-1,1)"
   ]
  },
  {
   "cell_type": "markdown",
   "metadata": {},
   "source": [
    "<p style=\"font-family: Arial; font-size:1.75em;color:purple; font-style:bold\"><br>\n",
    "\n",
    "(1) Linear Regression: Fit a model to the training set\n",
    "<br><br></p>\n",
    "\n",
    "The Machine Learning model chosen for this task is the Linear Regression Model. It is one of the most common regression algorithms to predict numerical values. The drawback is that it is a very basic and simple ML model and may not be very accurate for complex datasets.\n"
   ]
  },
  {
   "cell_type": "code",
   "execution_count": 40,
   "metadata": {
    "collapsed": false
   },
   "outputs": [
    {
     "data": {
      "text/plain": [
       "LinearRegression(copy_X=True, fit_intercept=True, n_jobs=1, normalize=False)"
      ]
     },
     "execution_count": 40,
     "metadata": {},
     "output_type": "execute_result"
    }
   ],
   "source": [
    "# to get the Linear Regressor Model\n",
    "regressor = LinearRegression()\n",
    "\n",
    "# to train the Model with our training data\n",
    "regressor.fit(X_train, y_train)"
   ]
  },
  {
   "cell_type": "markdown",
   "metadata": {},
   "source": [
    "<p style=\"font-family: Arial; font-size:1.75em;color:purple; font-style:bold\"><br>\n",
    "\n",
    "Perform Prediction using Linear Regression Model\n",
    "<br><br></p>\n",
    "\n",
    "Now that the model has been built and trained in a supervised way, we can proceed to use the model to make predictions. The predicted data corresponding to the test data is stored in a new object called *y_prediction*"
   ]
  },
  {
   "cell_type": "code",
   "execution_count": 41,
   "metadata": {
    "collapsed": false
   },
   "outputs": [],
   "source": [
    "# to get the predictions from the Test data\n",
    "y_prediction = regressor.predict(X_test)"
   ]
  },
  {
   "cell_type": "markdown",
   "metadata": {},
   "source": [
    "<h1 style=\"font-size:2em;color:#2467C0\">Model Validation</h1>\n",
    "\n",
    "\n",
    "Now that we have the predicted results from the model, they can be evaluated to check the accuracy of the model used. <br><br>\n",
    "\n",
    "I have used the Mean, Root Means Squared Error (RMSE) and Mean Absolute Error (MAE) to evaluate the predicted results.\n",
    "<br><br></p>\n"
   ]
  },
  {
   "cell_type": "code",
   "execution_count": 44,
   "metadata": {
    "collapsed": false
   },
   "outputs": [
    {
     "data": {
      "text/plain": [
       "122.86269222840652"
      ]
     },
     "execution_count": 44,
     "metadata": {},
     "output_type": "execute_result"
    }
   ],
   "source": [
    "# to get the mean value of the test data of target variable\n",
    "y_test.mean()"
   ]
  },
  {
   "cell_type": "code",
   "execution_count": 45,
   "metadata": {
    "collapsed": false
   },
   "outputs": [
    {
     "data": {
      "text/plain": [
       "120.46366384514832"
      ]
     },
     "execution_count": 45,
     "metadata": {},
     "output_type": "execute_result"
    }
   ],
   "source": [
    "# to get the mean value of the predicted data of target variable\n",
    "y_prediction.mean()"
   ]
  },
  {
   "cell_type": "markdown",
   "metadata": {},
   "source": [
    "**Remarks:** The means are close enough. So the model gives fairly accurate predicted values."
   ]
  },
  {
   "cell_type": "markdown",
   "metadata": {},
   "source": [
    "A common measure to evaluate Linear Regression Accuracy is to use the Root Mean Square Error.\n"
   ]
  },
  {
   "cell_type": "code",
   "execution_count": 43,
   "metadata": {
    "collapsed": false
   },
   "outputs": [
    {
     "name": "stdout",
     "output_type": "stream",
     "text": [
      "118.03543744528825\n"
     ]
    }
   ],
   "source": [
    "# to get the RMSE value\n",
    "RMSE = sqrt(mean_squared_error(y_true = y_test, y_pred = y_prediction))\n",
    "print(RMSE)"
   ]
  },
  {
   "cell_type": "markdown",
   "metadata": {},
   "source": [
    "This value is large because the predicted data values are spread over a large range. Hence, the deviations from the mean predicted values are also large which give rise to large value for RMSE since it squares the deviations."
   ]
  },
  {
   "cell_type": "code",
   "execution_count": 50,
   "metadata": {
    "collapsed": false
   },
   "outputs": [],
   "source": [
    "# to combine results in a dataframe\n",
    "y_prediction\n",
    "results_df = pd.DataFrame(y_prediction)\n",
    "X_test_df = pd.DataFrame(X_test)\n",
    "y_test_df = pd.DataFrame(y_test)\n",
    "results_df['X_test'] = X_test_df\n",
    "results_df['y_test'] = y_test_df\n",
    "results_df.columns = ['y_prediction', 'X_test', 'y_test']\n",
    "#results_df.head()"
   ]
  },
  {
   "cell_type": "code",
   "execution_count": 49,
   "metadata": {
    "collapsed": false
   },
   "outputs": [
    {
     "data": {
      "text/html": [
       "<div>\n",
       "<table border=\"1\" class=\"dataframe\">\n",
       "  <thead>\n",
       "    <tr style=\"text-align: right;\">\n",
       "      <th></th>\n",
       "      <th>y_prediction</th>\n",
       "      <th>X_test</th>\n",
       "      <th>y_test</th>\n",
       "    </tr>\n",
       "  </thead>\n",
       "  <tbody>\n",
       "    <tr>\n",
       "      <th>count</th>\n",
       "      <td>4851.000000</td>\n",
       "      <td>4851.000000</td>\n",
       "      <td>4851.000000</td>\n",
       "    </tr>\n",
       "    <tr>\n",
       "      <th>mean</th>\n",
       "      <td>120.463664</td>\n",
       "      <td>15263.234591</td>\n",
       "      <td>122.862692</td>\n",
       "    </tr>\n",
       "    <tr>\n",
       "      <th>std</th>\n",
       "      <td>8.239095</td>\n",
       "      <td>1709.845240</td>\n",
       "      <td>118.432125</td>\n",
       "    </tr>\n",
       "    <tr>\n",
       "      <th>min</th>\n",
       "      <td>105.893287</td>\n",
       "      <td>12347.000000</td>\n",
       "      <td>1.450000</td>\n",
       "    </tr>\n",
       "    <tr>\n",
       "      <th>25%</th>\n",
       "      <td>113.321190</td>\n",
       "      <td>13820.500000</td>\n",
       "      <td>46.865000</td>\n",
       "    </tr>\n",
       "    <tr>\n",
       "      <th>50%</th>\n",
       "      <td>120.999661</td>\n",
       "      <td>15152.000000</td>\n",
       "      <td>93.800000</td>\n",
       "    </tr>\n",
       "    <tr>\n",
       "      <th>75%</th>\n",
       "      <td>127.415654</td>\n",
       "      <td>16745.500000</td>\n",
       "      <td>161.030000</td>\n",
       "    </tr>\n",
       "    <tr>\n",
       "      <th>max</th>\n",
       "      <td>134.515890</td>\n",
       "      <td>18287.000000</td>\n",
       "      <td>1823.260000</td>\n",
       "    </tr>\n",
       "  </tbody>\n",
       "</table>\n",
       "</div>"
      ],
      "text/plain": [
       "       y_prediction        X_test       y_test\n",
       "count   4851.000000   4851.000000  4851.000000\n",
       "mean     120.463664  15263.234591   122.862692\n",
       "std        8.239095   1709.845240   118.432125\n",
       "min      105.893287  12347.000000     1.450000\n",
       "25%      113.321190  13820.500000    46.865000\n",
       "50%      120.999661  15152.000000    93.800000\n",
       "75%      127.415654  16745.500000   161.030000\n",
       "max      134.515890  18287.000000  1823.260000"
      ]
     },
     "execution_count": 49,
     "metadata": {},
     "output_type": "execute_result"
    }
   ],
   "source": [
    "#to get summary statistics of the results\n",
    "results_df.describe()"
   ]
  },
  {
   "cell_type": "markdown",
   "metadata": {
    "collapsed": true
   },
   "source": [
    "**Conclusion:** A few further ways to improve the accuracy will be to consider more sophisticated Regression Models. Here, I have used Linear Regression simply to give a demonstration of the overall method and the steps involved in analysing any generic dataset for numeric prediction.\n",
    "<br><br>\n",
    "Another possible way to approach this task would have been to pick any one customer and then to apply the whole Regression Model on only this customer in order to derive predictions for the revenue from this one customer. This can be easily implemented using the same method described here. "
   ]
  },
  {
   "cell_type": "code",
   "execution_count": null,
   "metadata": {
    "collapsed": true
   },
   "outputs": [],
   "source": []
  }
 ],
 "metadata": {
  "kernelspec": {
   "display_name": "Python 3",
   "language": "python",
   "name": "python3"
  },
  "language_info": {
   "codemirror_mode": {
    "name": "ipython",
    "version": 3
   },
   "file_extension": ".py",
   "mimetype": "text/x-python",
   "name": "python",
   "nbconvert_exporter": "python",
   "pygments_lexer": "ipython3",
   "version": "3.6.0"
  }
 },
 "nbformat": 4,
 "nbformat_minor": 2
}
